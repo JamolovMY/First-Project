{
 "cells": [
  {
   "cell_type": "code",
   "execution_count": 1,
   "id": "734c0c9a",
   "metadata": {},
   "outputs": [],
   "source": [
    "import pandas as pd\n",
    "import numpy as np\n",
    "import scipy.stats\n",
    "import seaborn as sns\n",
    "import matplotlib.pyplot as plt"
   ]
  },
  {
   "cell_type": "code",
   "execution_count": 2,
   "id": "5062fed4",
   "metadata": {},
   "outputs": [],
   "source": [
    "import csv\n",
    "  \n",
    "# csv file name\n",
    "filename = \"car.csv\""
   ]
  },
  {
   "cell_type": "code",
   "execution_count": 6,
   "id": "65cb18a0",
   "metadata": {},
   "outputs": [],
   "source": [
    "path ='https://github.com/JamolovMY/First-Project/blob/main/car.csv'"
   ]
  },
  {
   "cell_type": "code",
   "execution_count": 19,
   "id": "a9defb92",
   "metadata": {},
   "outputs": [
    {
     "name": "stdout",
     "output_type": "stream",
     "text": [
      "<bound method NDFrame.head of            Brand                            Model     Accel  TopSpeed   Range  \\\n",
      "0         Tesla     Model 3 Long Range Dual Motor   4.6 sec  233 km/h  450 km   \n",
      "1    Volkswagen                         ID.3 Pure  10.0 sec  160 km/h  270 km   \n",
      "2      Polestar                                 2   4.7 sec  210 km/h  400 km   \n",
      "3           BMW                              iX3    6.8 sec  180 km/h  360 km   \n",
      "4         Honda                                e    9.5 sec  145 km/h  170 km   \n",
      "..           ...                              ...       ...       ...     ...   \n",
      "98       Nissan                       Ariya 63kWh   7.5 sec  160 km/h  330 km   \n",
      "99         Audi     e-tron S Sportback 55 quattro   4.5 sec  210 km/h  335 km   \n",
      "100      Nissan               Ariya e-4ORCE 63kWh   5.9 sec  200 km/h  325 km   \n",
      "101      Nissan   Ariya e-4ORCE 87kWh Performance   5.1 sec  200 km/h  375 km   \n",
      "102       Byton                 M-Byte 95 kWh 2WD   7.5 sec  190 km/h  400 km   \n",
      "\n",
      "    Efficiency FastCharge              RapidCharge         PowerTrain  \\\n",
      "0    161 Wh/km   940 km/h  Rapid charging possible    All Wheel Drive   \n",
      "1    167 Wh/km   250 km/h  Rapid charging possible   Rear Wheel Drive   \n",
      "2    181 Wh/km   620 km/h  Rapid charging possible    All Wheel Drive   \n",
      "3    206 Wh/km   560 km/h  Rapid charging possible   Rear Wheel Drive   \n",
      "4    168 Wh/km   190 km/h  Rapid charging possible   Rear Wheel Drive   \n",
      "..         ...        ...                      ...                ...   \n",
      "98   191 Wh/km   440 km/h  Rapid charging possible  Front Wheel Drive   \n",
      "99   258 Wh/km   540 km/h  Rapid charging possible    All Wheel Drive   \n",
      "100  194 Wh/km   440 km/h  Rapid charging possible    All Wheel Drive   \n",
      "101  232 Wh/km   450 km/h  Rapid charging possible    All Wheel Drive   \n",
      "102  238 Wh/km   480 km/h  Rapid charging possible    All Wheel Drive   \n",
      "\n",
      "       PlugType  BodyStyle Segment  Seats  PriceEuro  \n",
      "0    Type 2 CCS      Sedan       D      5      55480  \n",
      "1    Type 2 CCS  Hatchback       C      5      30000  \n",
      "2    Type 2 CCS   Liftback       D      5      56440  \n",
      "3    Type 2 CCS        SUV       D      5      68040  \n",
      "4    Type 2 CCS  Hatchback       B      4      32997  \n",
      "..          ...        ...     ...    ...        ...  \n",
      "98   Type 2 CCS  Hatchback       C      5      45000  \n",
      "99   Type 2 CCS        SUV       E      5      96050  \n",
      "100  Type 2 CCS  Hatchback       C      5      50000  \n",
      "101  Type 2 CCS  Hatchback       C      5      65000  \n",
      "102  Type 2 CCS        SUV       E      5      62000  \n",
      "\n",
      "[103 rows x 14 columns]>\n"
     ]
    }
   ],
   "source": [
    "car = pd.read_csv('car.csv')\n",
    "print(car.head)"
   ]
  },
  {
   "cell_type": "code",
   "execution_count": 20,
   "id": "ad9e3783",
   "metadata": {},
   "outputs": [
    {
     "name": "stdout",
     "output_type": "stream",
     "text": [
      "Brand ['Tesla ' 'Volkswagen ' 'Polestar ' 'BMW ' 'Honda ' 'Lucid ' 'Peugeot '\n",
      " 'Audi ' 'Mercedes ' 'Nissan ' 'Hyundai ' 'Porsche ' 'MG ' 'Mini ' 'Opel '\n",
      " 'Skoda ' 'Volvo ' 'Kia ' 'Renault ' 'Mazda ' 'Lexus ' 'CUPRA ' 'SEAT '\n",
      " 'Lightyear ' 'Aiways ' 'DS ' 'Citroen ' 'Jaguar ' 'Ford ' 'Byton '\n",
      " 'Sono ' 'Smart ' 'Fiat ']\n",
      "Rapid Charge ['Rapid charging possible' 'Rapid charging not possible']\n",
      "Power Train ['All Wheel Drive' 'Rear Wheel Drive' 'Front Wheel Drive']\n",
      "Plug Type ['Type 2 CCS' 'Type 2 CHAdeMO' 'Type 2' 'Type 1 CHAdeMO']\n",
      "Body Style ['Sedan' 'Hatchback' 'Liftback' 'SUV' 'Pickup' 'MPV' 'Cabrio' 'SPV'\n",
      " 'Station']\n",
      "Segment ['D' 'C' 'B' 'F' 'A' 'E' 'N' 'S']\n"
     ]
    }
   ],
   "source": [
    "print(f'Brand {car.Brand.unique()}')\n",
    "print(f'Rapid Charge {car.RapidCharge.unique()}')\n",
    "print(f'Power Train {car.PowerTrain.unique()}')\n",
    "print(f'Plug Type {car.PlugType.unique()}')\n",
    "print(f'Body Style {car.BodyStyle.unique()}')\n",
    "print(f'Segment {car.Segment.unique()}')"
   ]
  },
  {
   "cell_type": "code",
   "execution_count": 14,
   "id": "01c9f93a",
   "metadata": {},
   "outputs": [
    {
     "data": {
      "image/png": "[encoded data removed]",
      "text/plain": [
       "<Figure size 432x288 with 1 Axes>"
      ]
     },
     "metadata": {
      "needs_background": "light"
     },
     "output_type": "display_data"
    },
    {
     "name": "stdout",
     "output_type": "stream",
     "text": [
      "\t\t\t Top 5 the fastest electric cars\n"
     ]
    }
   ],
   "source": [
    "x = np.array([\"Honda\", \"Tesla\", \"BMW\", \"Volkswagen\", \"Polestar\"])\n",
    "y = np.array([145, 233, 180, 160, 210,])\n",
    "\n",
    "plt.bar(x, y, color = \"brown\")\n",
    "plt.show()\n",
    "\n",
    "print(\"\\t\\t\\t Top 5 the fastest electric cars\")"
   ]
  },
  {
   "cell_type": "code",
   "execution_count": 21,
   "id": "4a19a455",
   "metadata": {},
   "outputs": [
    {
     "name": "stdout",
     "output_type": "stream",
     "text": [
      "Brand\n",
      "Tesla          13\n",
      "Audi            9\n",
      "Nissan          8\n",
      "Volkswagen      8\n",
      "Skoda           6\n",
      "Kia             5\n",
      "Porsche         5\n",
      "Renault         5\n",
      "BMW             4\n",
      "Ford            4\n",
      "Smart           3\n",
      "Mercedes        3\n",
      "Opel            3\n",
      "Hyundai         3\n",
      "Byton           3\n",
      "Peugeot         2\n",
      "Honda           2\n",
      "Fiat            2\n",
      "SEAT            1\n",
      "Sono            1\n",
      "Polestar        1\n",
      "Aiways          1\n",
      "MG              1\n",
      "Mini            1\n",
      "Mazda           1\n",
      "Lucid           1\n",
      "Lightyear       1\n",
      "Lexus           1\n",
      "Jaguar          1\n",
      "DS              1\n",
      "Citroen         1\n",
      "CUPRA           1\n",
      "Volvo           1\n",
      "Name: Model, dtype: int64\n"
     ]
    }
   ],
   "source": [
    "Most_car=car.groupby('Brand').count()\n",
    "print(Most_car['Model'].sort_values(ascending = False))"
   ]
  },
  {
   "cell_type": "code",
   "execution_count": null,
   "id": "6b0bacab",
   "metadata": {},
   "outputs": [],
   "source": []
  }
 ],
 "metadata": {
  "kernelspec": {
   "display_name": "Python 3",
   "language": "python",
   "name": "python3"
  },
  "language_info": {
   "codemirror_mode": {
    "name": "ipython",
    "version": 3
   },
   "file_extension": ".py",
   "mimetype": "text/x-python",
   "name": "python",
   "nbconvert_exporter": "python",
   "pygments_lexer": "ipython3",
   "version": "3.8.8"
  }
 },
 "nbformat": 4,
 "nbformat_minor": 5
}
